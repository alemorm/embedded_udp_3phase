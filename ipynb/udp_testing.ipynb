{
 "cells": [
  {
   "cell_type": "code",
   "execution_count": 3,
   "metadata": {},
   "outputs": [],
   "source": [
    "import matplotlib.pyplot as plt\n",
    "import numpy as np\n",
    "import socket "
   ]
  },
  {
   "cell_type": "code",
   "execution_count": 10,
   "metadata": {},
   "outputs": [
    {
     "data": {
      "text/plain": [
       "array([20, 30,  0])"
      ]
     },
     "execution_count": 10,
     "metadata": {},
     "output_type": "execute_result"
    }
   ],
   "source": [
    "x1 = [10,20,30]\n",
    "y1 = [[20,40,10],[40,10,30]]\n",
    "# plotting the line 1 points \n",
    "# plt.plot(x1, y1, label = \"line 1\");\n",
    "x1_array = np.array(x1)\n",
    "np.append(x1_array[1:], 0)"
   ]
  },
  {
   "cell_type": "code",
   "execution_count": null,
   "metadata": {},
   "outputs": [],
   "source": [
    "size = 100\n",
    "x_vec = np.linspace(0,1,size+1)[0:-1]\n",
    "y_vec = np.zeros((3,size))\n",
    "y_vec[0,:] = np.sin(x_vec)\n",
    "y_vec[1,:] = np.sin(x_vec + 2*np.pi/3)\n",
    "y_vec[2,:] = np.sin(x_vec + 4*np.pi/3)\n",
    "lines = []"
   ]
  },
  {
   "cell_type": "code",
   "execution_count": 57,
   "metadata": {},
   "outputs": [
    {
     "data": {
      "text/plain": [
       "array([0.02810158, 0.02322363, 0.05764541])"
      ]
     },
     "execution_count": 57,
     "metadata": {},
     "output_type": "execute_result"
    }
   ],
   "source": [
    "np.array([5], dtype=np.int32())\n",
    "np.random.uniform(high=0.1,size=3)"
   ]
  },
  {
   "cell_type": "code",
   "execution_count": null,
   "metadata": {},
   "outputs": [],
   "source": []
  },
  {
   "cell_type": "code",
   "execution_count": 16,
   "metadata": {},
   "outputs": [
    {
     "name": "stdout",
     "output_type": "stream",
     "text": [
      "[0.         0.00999983 0.01999867 0.0299955  0.03998933 0.04997917\n",
      " 0.05996401 0.06994285 0.07991469 0.08987855 0.09983342 0.1097783\n",
      " 0.11971221 0.12963414 0.13954311 0.14943813 0.15931821 0.16918235\n",
      " 0.17902957 0.18885889 0.19866933 0.2084599  0.21822962 0.22797752\n",
      " 0.23770263 0.24740396 0.25708055 0.26673144 0.27635565 0.28595223\n",
      " 0.29552021 0.30505864 0.31456656 0.32404303 0.33348709 0.34289781\n",
      " 0.35227423 0.36161543 0.37092047 0.38018842 0.38941834 0.39860933\n",
      " 0.40776045 0.4168708  0.42593947 0.43496553 0.44394811 0.45288629\n",
      " 0.46177918 0.47062589 0.47942554 0.48817725 0.49688014 0.50553334\n",
      " 0.51413599 0.52268723 0.5311862  0.53963205 0.54802394 0.55636102\n",
      " 0.56464247 0.57286746 0.58103516 0.58914476 0.59719544 0.60518641\n",
      " 0.61311685 0.62098599 0.62879302 0.63653718 0.64421769 0.65183377\n",
      " 0.65938467 0.66686964 0.67428791 0.68163876 0.68892145 0.69613524\n",
      " 0.70327942 0.71035327 0.71735609 0.72428717 0.73114583 0.73793137\n",
      " 0.74464312 0.75128041 0.75784256 0.76432894 0.77073888 0.77707175\n",
      " 0.78332691 0.78950374 0.79560162 0.80161994 0.8075581  0.8134155\n",
      " 0.81919157 0.82488571 0.83049737 0.83602598]\n",
      "[0.8660254  0.86098219 0.85585287 0.85063797 0.84533801 0.83995351\n",
      " 0.83448502 0.82893308 0.82329825 0.81758109 0.81178218 0.80590208\n",
      " 0.7999414  0.79390072 0.78778065 0.78158181 0.7753048  0.76895027\n",
      " 0.76251884 0.75601117 0.74942789 0.74276967 0.73603717 0.72923107\n",
      " 0.72235205 0.71540079 0.708378   0.70128436 0.6941206  0.68688743\n",
      " 0.67958557 0.67221575 0.66477871 0.65727519 0.64970594 0.64207173\n",
      " 0.63437331 0.62661145 0.61878693 0.61090053 0.60295305 0.59494527\n",
      " 0.58687799 0.57875203 0.57056819 0.5623273  0.55403017 0.54567764\n",
      " 0.53727055 0.52880973 0.52029602 0.51173029 0.50311339 0.49444617\n",
      " 0.48572951 0.47696428 0.46815135 0.45929161 0.45038594 0.44143523\n",
      " 0.43244037 0.42340228 0.41432184 0.40519997 0.39603758 0.38683559\n",
      " 0.37759492 0.36831648 0.35900122 0.34965005 0.34026392 0.33084376\n",
      " 0.32139052 0.31190515 0.30238858 0.29284177 0.28326568 0.27366126\n",
      " 0.26402947 0.25437129 0.24468766 0.23497957 0.22524798 0.21549387\n",
      " 0.2057182  0.19592197 0.18610614 0.1762717  0.16641964 0.15655093\n",
      " 0.14666657 0.13676754 0.12685484 0.11692945 0.10699236 0.09704458\n",
      " 0.08708709 0.0771209  0.06714699 0.05716637]\n",
      "[-0.8660254  -0.87098202 -0.87585154 -0.88063347 -0.88532734 -0.88993268\n",
      " -0.89444903 -0.89887593 -0.90321295 -0.90745964 -0.91161559 -0.91568038\n",
      " -0.9196536  -0.92353486 -0.92732377 -0.93101994 -0.93462301 -0.93813262\n",
      " -0.94154842 -0.94487006 -0.94809722 -0.95122957 -0.95426679 -0.95720859\n",
      " -0.96005468 -0.96280475 -0.96545855 -0.9680158  -0.97047625 -0.97283965\n",
      " -0.97510577 -0.97727438 -0.97934527 -0.98131822 -0.98319304 -0.98496954\n",
      " -0.98664754 -0.98822688 -0.9897074  -0.99108895 -0.99237139 -0.99355459\n",
      " -0.99463844 -0.99562283 -0.99650766 -0.99729283 -0.99797828 -0.99856393\n",
      " -0.99904972 -0.99943561 -0.99972156 -0.99990754 -0.99999352 -0.99997951\n",
      " -0.9998655  -0.99965151 -0.99933755 -0.99892366 -0.99840987 -0.99779625\n",
      " -0.99708285 -0.99626974 -0.995357   -0.99434473 -0.99323302 -0.992022\n",
      " -0.99071177 -0.98930247 -0.98779424 -0.98618723 -0.98448161 -0.98267754\n",
      " -0.9807752  -0.97877478 -0.97667649 -0.97448053 -0.97218712 -0.9697965\n",
      " -0.96730889 -0.96472456 -0.96204375 -0.95926675 -0.95639381 -0.95342524\n",
      " -0.95036132 -0.94720237 -0.9439487  -0.94060064 -0.93715852 -0.93362268\n",
      " -0.92999348 -0.92627128 -0.92245646 -0.91854939 -0.91455046 -0.91046008\n",
      " -0.90627866 -0.90200661 -0.89764436 -0.89319235]\n"
     ]
    }
   ],
   "source": [
    "for data in y_vec:\n",
    "    print(data)"
   ]
  },
  {
   "cell_type": "code",
   "execution_count": 7,
   "metadata": {},
   "outputs": [
    {
     "name": "stdout",
     "output_type": "stream",
     "text": [
      "UDP target IP: 127.0.0.1\n",
      "UDP target port: 5005\n",
      "message: b'10'\n"
     ]
    },
    {
     "data": {
      "text/plain": [
       "2"
      ]
     },
     "execution_count": 7,
     "metadata": {},
     "output_type": "execute_result"
    }
   ],
   "source": [
    "UDP_IP2 = \"192.168.42.11\"\n",
    "# UDP_PORT = 5005\n",
    "UDP_PORT = 8080\n",
    "MESSAGE = b\"10\"\n",
    "\n",
    "print(\"UDP target IP: %s\" % UDP_IP)\n",
    "print(\"UDP target port: %s\" % UDP_PORT)\n",
    "print(\"message: %s\" % MESSAGE)\n",
    "\n",
    "sock = socket.socket(socket.AF_INET, # Internet\n",
    "                     socket.SOCK_DGRAM) # UDP\n",
    "sock.sendto(MESSAGE, (UDP_IP1, UDP_PORT))\n",
    "\n",
    "sock.bind((UDP_IP2, UDP_PORT))\n",
    "while True:\n",
    "    data, addr = sock.recvfrom(1024) # buffer size is 1024 bytes\n",
    "    print(\"received message: %s\" % data)\n"
   ]
  },
  {
   "cell_type": "code",
   "execution_count": null,
   "metadata": {},
   "outputs": [],
   "source": [
    "import socket\n",
    "\n",
    "UDP_IP = \"127.0.0.1\"\n",
    "UDP_PORT = 8080\n",
    "\n",
    "sock = socket.socket(socket.AF_INET, # Internet\n",
    "                     socket.SOCK_DGRAM) # UDP\n",
    "sock.bind((UDP_IP, UDP_PORT))\n",
    "\n",
    "while True:\n",
    "    data, addr = sock.recvfrom(1024) # buffer size is 1024 bytes\n",
    "    print(\"received message: %s\" % data)\n"
   ]
  },
  {
   "cell_type": "code",
   "execution_count": null,
   "metadata": {},
   "outputs": [],
   "source": [
    "import socket\n",
    "\n",
    " \n",
    "\n",
    "localIP     = \"127.0.0.1\"\n",
    "\n",
    "localPort   = 20001\n",
    "\n",
    "bufferSize  = 1024\n",
    "\n",
    " \n",
    "\n",
    "msgFromServer       = \"Hello UDP Client\"\n",
    "\n",
    "bytesToSend         = str.encode(msgFromServer)\n",
    "\n",
    " \n",
    "\n",
    "# Create a datagram socket\n",
    "\n",
    "UDPServerSocket = socket.socket(family=socket.AF_INET, type=socket.SOCK_DGRAM)\n",
    "\n",
    " \n",
    "\n",
    "# Bind to address and ip\n",
    "\n",
    "UDPServerSocket.bind((localIP, localPort))\n",
    "\n",
    " \n",
    "\n",
    "print(\"UDP server up and listening\")\n",
    "\n",
    " \n",
    "\n",
    "# Listen for incoming datagrams\n",
    "\n",
    "while(True):\n",
    "\n",
    "    bytesAddressPair = UDPServerSocket.recvfrom(bufferSize)\n",
    "\n",
    "    message = bytesAddressPair[0]\n",
    "\n",
    "    address = bytesAddressPair[1]\n",
    "\n",
    "    clientMsg = \"Message from Client:{}\".format(message)\n",
    "    clientIP  = \"Client IP Address:{}\".format(address)\n",
    "    \n",
    "    print(clientMsg)\n",
    "    print(clientIP)\n",
    "\n",
    "   \n",
    "\n",
    "    # Sending a reply to client\n",
    "\n",
    "    UDPServerSocket.sendto(bytesToSend, address)"
   ]
  },
  {
   "cell_type": "code",
   "execution_count": 3,
   "metadata": {},
   "outputs": [
    {
     "name": "stdout",
     "output_type": "stream",
     "text": [
      "Message from Server b'Hello UDP Client'\n"
     ]
    }
   ],
   "source": [
    "import socket\n",
    "\n",
    " \n",
    "\n",
    "msgFromClient       = \"Goodbye UDP Server\"\n",
    "\n",
    "bytesToSend         = str.encode(msgFromClient)\n",
    "\n",
    "serverAddressPort   = (\"127.0.0.1\", 20001)\n",
    "\n",
    "bufferSize          = 1024\n",
    "\n",
    " \n",
    "\n",
    "# Create a UDP socket at client side\n",
    "\n",
    "UDPClientSocket = socket.socket(family=socket.AF_INET, type=socket.SOCK_DGRAM)\n",
    "\n",
    " \n",
    "\n",
    "# Send to server using created UDP socket\n",
    "\n",
    "UDPClientSocket.sendto(bytesToSend, serverAddressPort)\n",
    "\n",
    " \n",
    "\n",
    "msgFromServer = UDPClientSocket.recvfrom(bufferSize)\n",
    "\n",
    " \n",
    "\n",
    "msg = \"Message from Server {}\".format(msgFromServer[0])\n",
    "\n",
    "print(msg)"
   ]
  },
  {
   "cell_type": "code",
   "execution_count": null,
   "metadata": {},
   "outputs": [],
   "source": []
  }
 ],
 "metadata": {
  "kernelspec": {
   "display_name": "Python 3",
   "language": "python",
   "name": "python3"
  },
  "language_info": {
   "codemirror_mode": {
    "name": "ipython",
    "version": 3
   },
   "file_extension": ".py",
   "mimetype": "text/x-python",
   "name": "python",
   "nbconvert_exporter": "python",
   "pygments_lexer": "ipython3",
   "version": "3.7.6"
  }
 },
 "nbformat": 4,
 "nbformat_minor": 2
}
