{
 "cells": [
  {
   "cell_type": "markdown",
   "metadata": {},
   "source": [
    "# Testing python UDP communication and real-time plotting"
   ]
  },
  {
   "cell_type": "markdown",
   "metadata": {},
   "source": [
    "## Import modules"
   ]
  },
  {
   "cell_type": "code",
   "execution_count": null,
   "metadata": {},
   "outputs": [],
   "source": [
    "import matplotlib.pyplot as plt\n",
    "import numpy as np\n",
    "import socket "
   ]
  },
  {
   "cell_type": "markdown",
   "metadata": {},
   "source": [
    "## Testing real-time plotting"
   ]
  },
  {
   "cell_type": "code",
   "execution_count": null,
   "metadata": {},
   "outputs": [],
   "source": [
    "size = 100\n",
    "x_vec = np.linspace(-10,0,size)\n",
    "y_vec = np.zeros((3,size))\n",
    "y_vec[0,:] = 120*(np.sin(x_vec))\n",
    "y_vec[1,:] = 120*(np.sin(x_vec + 2*np.pi/3))\n",
    "y_vec[2,:] = 120*(np.sin(x_vec + 4*np.pi/3))\n",
    "lines = []\n",
    "plt.plot(x_vec, y_vec[0,:], x_vec, y_vec[1,:], x_vec, y_vec[2,:]);"
   ]
  },
  {
   "cell_type": "markdown",
   "metadata": {},
   "source": [
    "## Testing UDP communication\n"
   ]
  },
  {
   "cell_type": "code",
   "execution_count": null,
   "metadata": {},
   "outputs": [],
   "source": [
    "UDP_IP2 = \"192.168.42.11\"\n",
    "# UDP_PORT = 5005\n",
    "UDP_PORT = 8080\n",
    "MESSAGE = b\"10\"\n",
    "\n",
    "print(\"UDP target IP: %s\" % UDP_IP)\n",
    "print(\"UDP target port: %s\" % UDP_PORT)\n",
    "print(\"message: %s\" % MESSAGE)\n",
    "\n",
    "sock = socket.socket(socket.AF_INET, # Internet\n",
    "                     socket.SOCK_DGRAM) # UDP\n",
    "sock.sendto(MESSAGE, (UDP_IP1, UDP_PORT))\n",
    "\n",
    "sock.bind((UDP_IP2, UDP_PORT))\n",
    "while True:\n",
    "    data, addr = sock.recvfrom(1024) # buffer size is 1024 bytes\n",
    "    print(\"received message: %s\" % data)\n"
   ]
  },
  {
   "cell_type": "code",
   "execution_count": null,
   "metadata": {},
   "outputs": [],
   "source": []
  }
 ],
 "metadata": {
  "kernelspec": {
   "display_name": "Python 3",
   "language": "python",
   "name": "python3"
  },
  "language_info": {
   "codemirror_mode": {
    "name": "ipython",
    "version": 3
   },
   "file_extension": ".py",
   "mimetype": "text/x-python",
   "name": "python",
   "nbconvert_exporter": "python",
   "pygments_lexer": "ipython3",
   "version": "3.7.6-final"
  }
 },
 "nbformat": 4,
 "nbformat_minor": 2
}