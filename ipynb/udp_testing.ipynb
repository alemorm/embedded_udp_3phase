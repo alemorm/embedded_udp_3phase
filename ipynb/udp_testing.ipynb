{
 "cells": [
  {
   "cell_type": "code",
   "execution_count": 7,
   "metadata": {},
   "outputs": [
    {
     "name": "stdout",
     "output_type": "stream",
     "text": [
      "UDP target IP: 127.0.0.1\n",
      "UDP target port: 5005\n",
      "message: b'10'\n"
     ]
    },
    {
     "data": {
      "text/plain": [
       "2"
      ]
     },
     "execution_count": 7,
     "metadata": {},
     "output_type": "execute_result"
    }
   ],
   "source": [
    "import socket \n",
    "\n",
    "UDP_IP2 = \"192.168.42.11\"\n",
    "# UDP_PORT = 5005\n",
    "UDP_PORT = 8080\n",
    "MESSAGE = b\"10\"\n",
    "\n",
    "print(\"UDP target IP: %s\" % UDP_IP)\n",
    "print(\"UDP target port: %s\" % UDP_PORT)\n",
    "print(\"message: %s\" % MESSAGE)\n",
    "\n",
    "sock = socket.socket(socket.AF_INET, # Internet\n",
    "                     socket.SOCK_DGRAM) # UDP\n",
    "sock.sendto(MESSAGE, (UDP_IP1, UDP_PORT))\n",
    "\n",
    "sock.bind((UDP_IP2, UDP_PORT))\n",
    "while True:\n",
    "    data, addr = sock.recvfrom(1024) # buffer size is 1024 bytes\n",
    "    print(\"received message: %s\" % data)\n"
   ]
  },
  {
   "cell_type": "code",
   "execution_count": null,
   "metadata": {},
   "outputs": [],
   "source": [
    "import socket\n",
    "\n",
    "UDP_IP = \"127.0.0.1\"\n",
    "UDP_PORT = 8080\n",
    "\n",
    "sock = socket.socket(socket.AF_INET, # Internet\n",
    "                     socket.SOCK_DGRAM) # UDP\n",
    "sock.bind((UDP_IP, UDP_PORT))\n",
    "\n",
    "while True:\n",
    "    data, addr = sock.recvfrom(1024) # buffer size is 1024 bytes\n",
    "    print(\"received message: %s\" % data)\n"
   ]
  },
  {
   "cell_type": "code",
   "execution_count": null,
   "metadata": {},
   "outputs": [],
   "source": [
    "import socket\n",
    "\n",
    " \n",
    "\n",
    "localIP     = \"127.0.0.1\"\n",
    "\n",
    "localPort   = 20001\n",
    "\n",
    "bufferSize  = 1024\n",
    "\n",
    " \n",
    "\n",
    "msgFromServer       = \"Hello UDP Client\"\n",
    "\n",
    "bytesToSend         = str.encode(msgFromServer)\n",
    "\n",
    " \n",
    "\n",
    "# Create a datagram socket\n",
    "\n",
    "UDPServerSocket = socket.socket(family=socket.AF_INET, type=socket.SOCK_DGRAM)\n",
    "\n",
    " \n",
    "\n",
    "# Bind to address and ip\n",
    "\n",
    "UDPServerSocket.bind((localIP, localPort))\n",
    "\n",
    " \n",
    "\n",
    "print(\"UDP server up and listening\")\n",
    "\n",
    " \n",
    "\n",
    "# Listen for incoming datagrams\n",
    "\n",
    "while(True):\n",
    "\n",
    "    bytesAddressPair = UDPServerSocket.recvfrom(bufferSize)\n",
    "\n",
    "    message = bytesAddressPair[0]\n",
    "\n",
    "    address = bytesAddressPair[1]\n",
    "\n",
    "    clientMsg = \"Message from Client:{}\".format(message)\n",
    "    clientIP  = \"Client IP Address:{}\".format(address)\n",
    "    \n",
    "    print(clientMsg)\n",
    "    print(clientIP)\n",
    "\n",
    "   \n",
    "\n",
    "    # Sending a reply to client\n",
    "\n",
    "    UDPServerSocket.sendto(bytesToSend, address)"
   ]
  },
  {
   "cell_type": "code",
   "execution_count": 3,
   "metadata": {},
   "outputs": [
    {
     "name": "stdout",
     "output_type": "stream",
     "text": [
      "Message from Server b'Hello UDP Client'\n"
     ]
    }
   ],
   "source": [
    "import socket\n",
    "\n",
    " \n",
    "\n",
    "msgFromClient       = \"Goodbye UDP Server\"\n",
    "\n",
    "bytesToSend         = str.encode(msgFromClient)\n",
    "\n",
    "serverAddressPort   = (\"127.0.0.1\", 20001)\n",
    "\n",
    "bufferSize          = 1024\n",
    "\n",
    " \n",
    "\n",
    "# Create a UDP socket at client side\n",
    "\n",
    "UDPClientSocket = socket.socket(family=socket.AF_INET, type=socket.SOCK_DGRAM)\n",
    "\n",
    " \n",
    "\n",
    "# Send to server using created UDP socket\n",
    "\n",
    "UDPClientSocket.sendto(bytesToSend, serverAddressPort)\n",
    "\n",
    " \n",
    "\n",
    "msgFromServer = UDPClientSocket.recvfrom(bufferSize)\n",
    "\n",
    " \n",
    "\n",
    "msg = \"Message from Server {}\".format(msgFromServer[0])\n",
    "\n",
    "print(msg)"
   ]
  },
  {
   "cell_type": "code",
   "execution_count": null,
   "metadata": {},
   "outputs": [],
   "source": []
  }
 ],
 "metadata": {
  "kernelspec": {
   "display_name": "Python 3",
   "language": "python",
   "name": "python3"
  },
  "language_info": {
   "codemirror_mode": {
    "name": "ipython",
    "version": 3
   },
   "file_extension": ".py",
   "mimetype": "text/x-python",
   "name": "python",
   "nbconvert_exporter": "python",
   "pygments_lexer": "ipython3",
   "version": "3.7.0"
  }
 },
 "nbformat": 4,
 "nbformat_minor": 2
}
